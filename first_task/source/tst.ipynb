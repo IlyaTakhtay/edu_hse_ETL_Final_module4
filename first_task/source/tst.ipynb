{
 "cells": [
  {
   "cell_type": "code",
   "execution_count": 4,
   "id": "c5bd18eb",
   "metadata": {},
   "outputs": [],
   "source": [
    "import pandas as pd\n"
   ]
  },
  {
   "cell_type": "code",
   "execution_count": null,
   "id": "6dcacdc3",
   "metadata": {},
   "outputs": [],
   "source": [
    "df = pd.read_csv('social_media_vs_productivity.csv')\n",
    "df.insert(0, 'id', range(1, 1 + len(df)))\n",
    "df.to_csv('social_media_vs_productivity_id.csv', index=False)\n"
   ]
  },
  {
   "cell_type": "code",
   "execution_count": 5,
   "id": "5b9061ee",
   "metadata": {},
   "outputs": [
    {
     "name": "stdout",
     "output_type": "stream",
     "text": [
      "Все значения в stress_level целые.\n"
     ]
    }
   ],
   "source": [
    "# Проверяем, есть ли нецелые значения в stress_level\n",
    "df = pd.read_csv('social_media_vs_productivity_id.csv')\n",
    "non_int_stress = df['stress_level'].dropna().apply(lambda x: not float(x).is_integer())\n",
    "\n",
    "if non_int_stress.any():\n",
    "    print(\"Есть нецелые значения в stress_level:\")\n",
    "    print(df.loc[non_int_stress, 'stress_level'])\n",
    "else:\n",
    "    print(\"Все значения в stress_level целые.\")\n"
   ]
  },
  {
   "cell_type": "code",
   "execution_count": 8,
   "id": "36c5990d",
   "metadata": {},
   "outputs": [],
   "source": [
    "df['stress_level'] = df['stress_level'].fillna(0).astype(int)\n",
    "bool_columns = ['uses_focus_apps', 'has_digital_wellbeing_enabled']\n",
    "for col in bool_columns:\n",
    "    if col in df.columns:\n",
    "        df[col] = df[col].astype(str).str.lower()\n"
   ]
  },
  {
   "cell_type": "code",
   "execution_count": 9,
   "id": "1b811ec9",
   "metadata": {},
   "outputs": [],
   "source": [
    "df.to_csv('social_media_vs_productivity_id.csv', index=False)\n"
   ]
  },
  {
   "cell_type": "code",
   "execution_count": null,
   "id": "6d0e4cb9",
   "metadata": {},
   "outputs": [],
   "source": []
  }
 ],
 "metadata": {
  "kernelspec": {
   "display_name": "Python 3",
   "language": "python",
   "name": "python3"
  },
  "language_info": {
   "codemirror_mode": {
    "name": "ipython",
    "version": 3
   },
   "file_extension": ".py",
   "mimetype": "text/x-python",
   "name": "python",
   "nbconvert_exporter": "python",
   "pygments_lexer": "ipython3",
   "version": "3.10.4"
  }
 },
 "nbformat": 4,
 "nbformat_minor": 5
}
